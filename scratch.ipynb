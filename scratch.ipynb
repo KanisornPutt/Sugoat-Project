{
 "cells": [
  {
   "cell_type": "code",
   "execution_count": 81,
   "id": "64171088",
   "metadata": {},
   "outputs": [],
   "source": [
    "import pandas as pd\n",
    "import numpy as np\n",
    "import matplotlib.pyplot as plt\n",
    "from sklearn.metrics import accuracy_score"
   ]
  },
  {
   "cell_type": "markdown",
   "id": "d6c04426",
   "metadata": {},
   "source": [
    "# Data"
   ]
  },
  {
   "cell_type": "code",
   "execution_count": 82,
   "id": "f7c21212",
   "metadata": {},
   "outputs": [],
   "source": [
    "datapath = \"dataset/\"\n",
    "\n",
    "df = pd.read_csv(datapath + 'data.csv')"
   ]
  },
  {
   "cell_type": "code",
   "execution_count": 83,
   "id": "0c34acb4",
   "metadata": {},
   "outputs": [
    {
     "data": {
      "text/html": [
       "<div>\n",
       "<style scoped>\n",
       "    .dataframe tbody tr th:only-of-type {\n",
       "        vertical-align: middle;\n",
       "    }\n",
       "\n",
       "    .dataframe tbody tr th {\n",
       "        vertical-align: top;\n",
       "    }\n",
       "\n",
       "    .dataframe thead th {\n",
       "        text-align: right;\n",
       "    }\n",
       "</style>\n",
       "<table border=\"1\" class=\"dataframe\">\n",
       "  <thead>\n",
       "    <tr style=\"text-align: right;\">\n",
       "      <th></th>\n",
       "      <th>hPossesion</th>\n",
       "      <th>aPossesion</th>\n",
       "      <th>hshotsOnTarget</th>\n",
       "      <th>ashotsOnTarget</th>\n",
       "      <th>hshots</th>\n",
       "      <th>ashots</th>\n",
       "      <th>hfouls</th>\n",
       "      <th>afouls</th>\n",
       "      <th>hsaves</th>\n",
       "      <th>asaves</th>\n",
       "      <th>label</th>\n",
       "    </tr>\n",
       "  </thead>\n",
       "  <tbody>\n",
       "    <tr>\n",
       "      <th>0</th>\n",
       "      <td>24</td>\n",
       "      <td>76</td>\n",
       "      <td>2</td>\n",
       "      <td>4</td>\n",
       "      <td>14</td>\n",
       "      <td>17</td>\n",
       "      <td>11</td>\n",
       "      <td>13</td>\n",
       "      <td>2</td>\n",
       "      <td>1</td>\n",
       "      <td>2</td>\n",
       "    </tr>\n",
       "    <tr>\n",
       "      <th>1</th>\n",
       "      <td>80</td>\n",
       "      <td>20</td>\n",
       "      <td>3</td>\n",
       "      <td>1</td>\n",
       "      <td>5</td>\n",
       "      <td>2</td>\n",
       "      <td>1</td>\n",
       "      <td>3</td>\n",
       "      <td>0</td>\n",
       "      <td>1</td>\n",
       "      <td>1</td>\n",
       "    </tr>\n",
       "    <tr>\n",
       "      <th>2</th>\n",
       "      <td>57</td>\n",
       "      <td>43</td>\n",
       "      <td>4</td>\n",
       "      <td>2</td>\n",
       "      <td>12</td>\n",
       "      <td>11</td>\n",
       "      <td>10</td>\n",
       "      <td>12</td>\n",
       "      <td>1</td>\n",
       "      <td>2</td>\n",
       "      <td>1</td>\n",
       "    </tr>\n",
       "    <tr>\n",
       "      <th>3</th>\n",
       "      <td>47</td>\n",
       "      <td>53</td>\n",
       "      <td>5</td>\n",
       "      <td>3</td>\n",
       "      <td>13</td>\n",
       "      <td>11</td>\n",
       "      <td>7</td>\n",
       "      <td>10</td>\n",
       "      <td>1</td>\n",
       "      <td>3</td>\n",
       "      <td>0</td>\n",
       "    </tr>\n",
       "    <tr>\n",
       "      <th>4</th>\n",
       "      <td>72</td>\n",
       "      <td>28</td>\n",
       "      <td>5</td>\n",
       "      <td>4</td>\n",
       "      <td>21</td>\n",
       "      <td>6</td>\n",
       "      <td>8</td>\n",
       "      <td>13</td>\n",
       "      <td>4</td>\n",
       "      <td>5</td>\n",
       "      <td>0</td>\n",
       "    </tr>\n",
       "  </tbody>\n",
       "</table>\n",
       "</div>"
      ],
      "text/plain": [
       "   hPossesion  aPossesion  hshotsOnTarget  ashotsOnTarget  hshots  ashots  \\\n",
       "0          24          76               2               4      14      17   \n",
       "1          80          20               3               1       5       2   \n",
       "2          57          43               4               2      12      11   \n",
       "3          47          53               5               3      13      11   \n",
       "4          72          28               5               4      21       6   \n",
       "\n",
       "   hfouls  afouls  hsaves  asaves  label  \n",
       "0      11      13       2       1      2  \n",
       "1       1       3       0       1      1  \n",
       "2      10      12       1       2      1  \n",
       "3       7      10       1       3      0  \n",
       "4       8      13       4       5      0  "
      ]
     },
     "execution_count": 83,
     "metadata": {},
     "output_type": "execute_result"
    }
   ],
   "source": [
    "df.head()"
   ]
  },
  {
   "cell_type": "code",
   "execution_count": 84,
   "id": "fd685b63",
   "metadata": {},
   "outputs": [
    {
     "data": {
      "text/plain": [
       "(1272, 11)"
      ]
     },
     "execution_count": 84,
     "metadata": {},
     "output_type": "execute_result"
    }
   ],
   "source": [
    "df.shape"
   ]
  },
  {
   "cell_type": "markdown",
   "id": "bd0cc024",
   "metadata": {},
   "source": [
    "# Nueral Net From Scratch"
   ]
  },
  {
   "cell_type": "markdown",
   "id": "9edfc6f9",
   "metadata": {},
   "source": [
    "### Selected Data to Train"
   ]
  },
  {
   "cell_type": "code",
   "execution_count": 85,
   "id": "343a2799",
   "metadata": {},
   "outputs": [
    {
     "data": {
      "text/html": [
       "<div>\n",
       "<style scoped>\n",
       "    .dataframe tbody tr th:only-of-type {\n",
       "        vertical-align: middle;\n",
       "    }\n",
       "\n",
       "    .dataframe tbody tr th {\n",
       "        vertical-align: top;\n",
       "    }\n",
       "\n",
       "    .dataframe thead th {\n",
       "        text-align: right;\n",
       "    }\n",
       "</style>\n",
       "<table border=\"1\" class=\"dataframe\">\n",
       "  <thead>\n",
       "    <tr style=\"text-align: right;\">\n",
       "      <th></th>\n",
       "      <th>hPossesion</th>\n",
       "      <th>aPossesion</th>\n",
       "      <th>hshotsOnTarget</th>\n",
       "      <th>ashotsOnTarget</th>\n",
       "      <th>hshots</th>\n",
       "      <th>ashots</th>\n",
       "      <th>hfouls</th>\n",
       "      <th>afouls</th>\n",
       "      <th>hsaves</th>\n",
       "      <th>asaves</th>\n",
       "      <th>label</th>\n",
       "    </tr>\n",
       "  </thead>\n",
       "  <tbody>\n",
       "    <tr>\n",
       "      <th>208</th>\n",
       "      <td>50</td>\n",
       "      <td>50</td>\n",
       "      <td>7</td>\n",
       "      <td>0</td>\n",
       "      <td>11</td>\n",
       "      <td>2</td>\n",
       "      <td>7</td>\n",
       "      <td>7</td>\n",
       "      <td>0</td>\n",
       "      <td>3</td>\n",
       "      <td>1</td>\n",
       "    </tr>\n",
       "    <tr>\n",
       "      <th>966</th>\n",
       "      <td>45</td>\n",
       "      <td>55</td>\n",
       "      <td>1</td>\n",
       "      <td>3</td>\n",
       "      <td>9</td>\n",
       "      <td>10</td>\n",
       "      <td>20</td>\n",
       "      <td>18</td>\n",
       "      <td>3</td>\n",
       "      <td>1</td>\n",
       "      <td>0</td>\n",
       "    </tr>\n",
       "    <tr>\n",
       "      <th>714</th>\n",
       "      <td>37</td>\n",
       "      <td>63</td>\n",
       "      <td>2</td>\n",
       "      <td>1</td>\n",
       "      <td>8</td>\n",
       "      <td>10</td>\n",
       "      <td>13</td>\n",
       "      <td>10</td>\n",
       "      <td>1</td>\n",
       "      <td>1</td>\n",
       "      <td>1</td>\n",
       "    </tr>\n",
       "    <tr>\n",
       "      <th>1192</th>\n",
       "      <td>64</td>\n",
       "      <td>36</td>\n",
       "      <td>15</td>\n",
       "      <td>3</td>\n",
       "      <td>20</td>\n",
       "      <td>6</td>\n",
       "      <td>15</td>\n",
       "      <td>13</td>\n",
       "      <td>1</td>\n",
       "      <td>7</td>\n",
       "      <td>0</td>\n",
       "    </tr>\n",
       "    <tr>\n",
       "      <th>584</th>\n",
       "      <td>28</td>\n",
       "      <td>72</td>\n",
       "      <td>0</td>\n",
       "      <td>5</td>\n",
       "      <td>3</td>\n",
       "      <td>22</td>\n",
       "      <td>12</td>\n",
       "      <td>4</td>\n",
       "      <td>3</td>\n",
       "      <td>0</td>\n",
       "      <td>2</td>\n",
       "    </tr>\n",
       "  </tbody>\n",
       "</table>\n",
       "</div>"
      ],
      "text/plain": [
       "      hPossesion  aPossesion  hshotsOnTarget  ashotsOnTarget  hshots  ashots  \\\n",
       "208           50          50               7               0      11       2   \n",
       "966           45          55               1               3       9      10   \n",
       "714           37          63               2               1       8      10   \n",
       "1192          64          36              15               3      20       6   \n",
       "584           28          72               0               5       3      22   \n",
       "\n",
       "      hfouls  afouls  hsaves  asaves  label  \n",
       "208        7       7       0       3      1  \n",
       "966       20      18       3       1      0  \n",
       "714       13      10       1       1      1  \n",
       "1192      15      13       1       7      0  \n",
       "584       12       4       3       0      2  "
      ]
     },
     "execution_count": 85,
     "metadata": {},
     "output_type": "execute_result"
    }
   ],
   "source": [
    "sample_df = df.sample(n=100, random_state=42)\n",
    "sample_df.head()"
   ]
  },
  {
   "cell_type": "code",
   "execution_count": 86,
   "id": "5892d69a",
   "metadata": {},
   "outputs": [
    {
     "name": "stderr",
     "output_type": "stream",
     "text": [
      "c:\\Users\\Public\\Anaconda\\envs\\dsde-cp\\Lib\\site-packages\\numpy\\_core\\fromnumeric.py:57: FutureWarning: 'DataFrame.swapaxes' is deprecated and will be removed in a future version. Please use 'DataFrame.transpose' instead.\n",
      "  return bound(*args, **kwds)\n"
     ]
    },
    {
     "data": {
      "text/plain": [
       "((80, 11), (20, 11))"
      ]
     },
     "execution_count": 86,
     "metadata": {},
     "output_type": "execute_result"
    }
   ],
   "source": [
    "train, test = np.split(sample_df.sample(frac=1, random_state=42), [int(0.8 * len(sample_df))])\n",
    "\n",
    "train.shape, test.shape"
   ]
  },
  {
   "cell_type": "code",
   "execution_count": 87,
   "id": "408041db",
   "metadata": {},
   "outputs": [
    {
     "data": {
      "text/plain": [
       "((80, 10), (80,))"
      ]
     },
     "execution_count": 87,
     "metadata": {},
     "output_type": "execute_result"
    }
   ],
   "source": [
    "X = train.drop(columns=['label'])\n",
    "y = train['label']\n",
    "\n",
    "X_test = test.drop(columns=['label'])\n",
    "y_test = test['label']\n",
    "\n",
    "X.shape, y.shape"
   ]
  },
  {
   "cell_type": "markdown",
   "id": "a23317cf",
   "metadata": {},
   "source": [
    "## init weights"
   ]
  },
  {
   "cell_type": "code",
   "execution_count": 88,
   "id": "a3ab366a",
   "metadata": {},
   "outputs": [
    {
     "data": {
      "text/plain": [
       "array([[ 1.74309664, -1.31634789, -1.27157999],\n",
       "       [-0.78829401, -0.74506356, -0.34445704],\n",
       "       [-0.79847829, -0.15626524,  0.16488242],\n",
       "       [-1.24779855, -0.17953347, -2.59314683],\n",
       "       [ 0.06952611, -0.70690073,  0.40398383],\n",
       "       [-0.29601795,  1.31828447,  0.09090467],\n",
       "       [ 1.34418513, -1.06737633, -0.57267993],\n",
       "       [-0.82199739, -0.37566125, -1.41810911],\n",
       "       [-1.85040363,  1.83551714,  0.54407544],\n",
       "       [ 1.74172506, -0.54731027,  0.13863231]])"
      ]
     },
     "execution_count": 88,
     "metadata": {},
     "output_type": "execute_result"
    }
   ],
   "source": [
    "W = np.random.randn(10, 3)\n",
    "W"
   ]
  },
  {
   "cell_type": "code",
   "execution_count": 89,
   "id": "e261737c",
   "metadata": {},
   "outputs": [
    {
     "data": {
      "text/plain": [
       "array([[-0.79770891, -0.67167469, -2.34911904]])"
      ]
     },
     "execution_count": 89,
     "metadata": {},
     "output_type": "execute_result"
    }
   ],
   "source": [
    "W0 = np.random.randn(1, 3)\n",
    "W0"
   ]
  },
  {
   "cell_type": "markdown",
   "id": "3bde54a9",
   "metadata": {},
   "source": [
    "## Forward Pass"
   ]
  },
  {
   "cell_type": "code",
   "execution_count": 90,
   "id": "9a57e9c8",
   "metadata": {},
   "outputs": [],
   "source": [
    "# Forward pass\n",
    "def softmax(z):\n",
    "    exp_z = np.exp(z - np.max(z, axis=1, keepdims=True))\n",
    "    return exp_z / exp_z.sum(axis=1, keepdims=True)"
   ]
  },
  {
   "cell_type": "markdown",
   "id": "aca07542",
   "metadata": {},
   "source": [
    "## Original Evaluation"
   ]
  },
  {
   "cell_type": "code",
   "execution_count": 91,
   "id": "c507e135",
   "metadata": {},
   "outputs": [],
   "source": [
    "logits = (X @ W + W0).to_numpy()  # Convert to NumPy array to avoid pandas-specific issues\n",
    "probs = softmax(logits)          # Predicted class probabilities\n",
    "preds = np.argmax(probs, axis=1) # Class predictions (0, 1, or 2)"
   ]
  },
  {
   "cell_type": "code",
   "execution_count": 92,
   "id": "0e1a6a05",
   "metadata": {},
   "outputs": [
    {
     "data": {
      "text/plain": [
       "array([0, 0, 0, 0, 0, 0, 0, 0, 0, 0, 0, 0, 0, 0, 0, 0, 0, 0, 0, 0, 0, 0,\n",
       "       0, 0, 0, 0, 0, 0, 0, 0, 0, 0, 0, 0, 0, 0, 0, 0, 0, 0, 0, 0, 0, 0,\n",
       "       0, 0, 0, 0, 0, 0, 0, 0, 0, 0, 0, 0, 0, 0, 0, 0, 0, 0, 0, 0, 0, 0,\n",
       "       0, 0, 0, 0, 0, 0, 0, 0, 0, 0, 0, 0, 0, 1])"
      ]
     },
     "execution_count": 92,
     "metadata": {},
     "output_type": "execute_result"
    }
   ],
   "source": [
    "preds"
   ]
  },
  {
   "cell_type": "code",
   "execution_count": 93,
   "id": "84b20900",
   "metadata": {},
   "outputs": [
    {
     "name": "stdout",
     "output_type": "stream",
     "text": [
      "Original Accuracy: 0.21\n"
     ]
    }
   ],
   "source": [
    "accuracy = accuracy_score(y, preds)\n",
    "\n",
    "print(f\"Original Accuracy: {accuracy:.2f}\")"
   ]
  },
  {
   "cell_type": "markdown",
   "id": "58f92a18",
   "metadata": {},
   "source": [
    "# Training"
   ]
  },
  {
   "cell_type": "markdown",
   "id": "cfa6a3a8",
   "metadata": {},
   "source": [
    "### Loss Fuction"
   ]
  },
  {
   "cell_type": "code",
   "execution_count": 94,
   "id": "88ede327",
   "metadata": {},
   "outputs": [],
   "source": [
    "def cross_entropy_loss(probs, y_true):\n",
    "    n = y_true.shape[0]\n",
    "    log_probs = -np.log(probs[range(n), y_true])\n",
    "    return np.sum(log_probs) / n"
   ]
  },
  {
   "cell_type": "markdown",
   "id": "fc0c6720",
   "metadata": {},
   "source": [
    "### One-hot encoder\n",
    "class 0 -> [1, 0, 0]\n",
    "\n",
    "class 1 -> [0, 1, 0]\n",
    "\n",
    "class 2 -> [0, 0, 1]\n"
   ]
  },
  {
   "cell_type": "code",
   "execution_count": 95,
   "id": "aa405189",
   "metadata": {},
   "outputs": [],
   "source": [
    "def one_hot(y, num_classes):\n",
    "    return np.eye(num_classes)[y]"
   ]
  },
  {
   "cell_type": "code",
   "execution_count": 96,
   "id": "ff2d665a",
   "metadata": {},
   "outputs": [
    {
     "name": "stdout",
     "output_type": "stream",
     "text": [
      "Epoch 0, Loss: 129.9141, Accuracy: 0.21\n"
     ]
    },
    {
     "name": "stdout",
     "output_type": "stream",
     "text": [
      "Epoch 1000, Loss: 47.9710, Accuracy: 0.64\n",
      "Epoch 2000, Loss: 78.1853, Accuracy: 0.64\n",
      "Epoch 3000, Loss: 20.2618, Accuracy: 0.65\n",
      "Epoch 4000, Loss: 11.4584, Accuracy: 0.74\n",
      "Epoch 5000, Loss: 17.7257, Accuracy: 0.61\n",
      "Epoch 6000, Loss: 67.6062, Accuracy: 0.61\n",
      "Epoch 7000, Loss: 61.0441, Accuracy: 0.64\n",
      "Epoch 8000, Loss: 24.6687, Accuracy: 0.51\n",
      "Epoch 9000, Loss: 25.5388, Accuracy: 0.72\n"
     ]
    }
   ],
   "source": [
    "learning_rate = 0.1\n",
    "epochs = 10000\n",
    "num_classes = 3\n",
    "n_samples, n_features = X.shape\n",
    "\n",
    "for epoch in range(epochs):\n",
    "    # Forward\n",
    "    logits = np.dot(X, W) + dw0\n",
    "    probs = softmax(logits)\n",
    "    loss = cross_entropy_loss(probs, y)\n",
    "\n",
    "    # Back Propagate\n",
    "    y_onehot = one_hot(y, num_classes)\n",
    "    dlogits = (probs - y_onehot) / n_samples\n",
    "    dW = np.dot(X.T, dlogits)\n",
    "    dw0 = np.sum(dlogits, axis=0, keepdims=True)\n",
    "\n",
    "    # Update Weights\n",
    "    W -= learning_rate * dW\n",
    "    W0 -= learning_rate * dw0\n",
    "\n",
    "    # Log\n",
    "    if epoch % 1000 == 0:\n",
    "        predictions = np.argmax(probs, axis=1)\n",
    "        acc = np.mean(predictions == y)\n",
    "        print(f\"Epoch {epoch}, Loss: {loss:.4f}, Accuracy: {acc:.2f}\")"
   ]
  },
  {
   "cell_type": "code",
   "execution_count": null,
   "id": "eb99b896",
   "metadata": {},
   "outputs": [],
   "source": []
  }
 ],
 "metadata": {
  "kernelspec": {
   "display_name": "dsde-cp",
   "language": "python",
   "name": "python3"
  },
  "language_info": {
   "codemirror_mode": {
    "name": "ipython",
    "version": 3
   },
   "file_extension": ".py",
   "mimetype": "text/x-python",
   "name": "python",
   "nbconvert_exporter": "python",
   "pygments_lexer": "ipython3",
   "version": "3.12.8"
  }
 },
 "nbformat": 4,
 "nbformat_minor": 5
}
