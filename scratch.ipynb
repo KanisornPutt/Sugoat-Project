{
 "cells": [
  {
   "cell_type": "code",
   "execution_count": 351,
   "id": "64171088",
   "metadata": {},
   "outputs": [],
   "source": [
    "import pandas as pd\n",
    "import numpy as np\n",
    "import matplotlib.pyplot as plt\n",
    "from sklearn.metrics import accuracy_score"
   ]
  },
  {
   "cell_type": "markdown",
   "id": "d6c04426",
   "metadata": {},
   "source": [
    "# Data"
   ]
  },
  {
   "cell_type": "code",
   "execution_count": 352,
   "id": "f7c21212",
   "metadata": {},
   "outputs": [],
   "source": [
    "datapath = \"dataset/\"\n",
    "\n",
    "df = pd.read_csv(datapath + 'data.csv')"
   ]
  },
  {
   "cell_type": "code",
   "execution_count": 353,
   "id": "0c34acb4",
   "metadata": {},
   "outputs": [
    {
     "data": {
      "text/html": [
       "<div>\n",
       "<style scoped>\n",
       "    .dataframe tbody tr th:only-of-type {\n",
       "        vertical-align: middle;\n",
       "    }\n",
       "\n",
       "    .dataframe tbody tr th {\n",
       "        vertical-align: top;\n",
       "    }\n",
       "\n",
       "    .dataframe thead th {\n",
       "        text-align: right;\n",
       "    }\n",
       "</style>\n",
       "<table border=\"1\" class=\"dataframe\">\n",
       "  <thead>\n",
       "    <tr style=\"text-align: right;\">\n",
       "      <th></th>\n",
       "      <th>hPossesion</th>\n",
       "      <th>aPossesion</th>\n",
       "      <th>hshotsOnTarget</th>\n",
       "      <th>ashotsOnTarget</th>\n",
       "      <th>hshots</th>\n",
       "      <th>ashots</th>\n",
       "      <th>hfouls</th>\n",
       "      <th>afouls</th>\n",
       "      <th>hsaves</th>\n",
       "      <th>asaves</th>\n",
       "      <th>label</th>\n",
       "    </tr>\n",
       "  </thead>\n",
       "  <tbody>\n",
       "    <tr>\n",
       "      <th>0</th>\n",
       "      <td>24</td>\n",
       "      <td>76</td>\n",
       "      <td>2</td>\n",
       "      <td>4</td>\n",
       "      <td>14</td>\n",
       "      <td>17</td>\n",
       "      <td>11</td>\n",
       "      <td>13</td>\n",
       "      <td>2</td>\n",
       "      <td>1</td>\n",
       "      <td>2</td>\n",
       "    </tr>\n",
       "    <tr>\n",
       "      <th>1</th>\n",
       "      <td>80</td>\n",
       "      <td>20</td>\n",
       "      <td>3</td>\n",
       "      <td>1</td>\n",
       "      <td>5</td>\n",
       "      <td>2</td>\n",
       "      <td>1</td>\n",
       "      <td>3</td>\n",
       "      <td>0</td>\n",
       "      <td>1</td>\n",
       "      <td>1</td>\n",
       "    </tr>\n",
       "    <tr>\n",
       "      <th>2</th>\n",
       "      <td>57</td>\n",
       "      <td>43</td>\n",
       "      <td>4</td>\n",
       "      <td>2</td>\n",
       "      <td>12</td>\n",
       "      <td>11</td>\n",
       "      <td>10</td>\n",
       "      <td>12</td>\n",
       "      <td>1</td>\n",
       "      <td>2</td>\n",
       "      <td>1</td>\n",
       "    </tr>\n",
       "    <tr>\n",
       "      <th>3</th>\n",
       "      <td>47</td>\n",
       "      <td>53</td>\n",
       "      <td>5</td>\n",
       "      <td>3</td>\n",
       "      <td>13</td>\n",
       "      <td>11</td>\n",
       "      <td>7</td>\n",
       "      <td>10</td>\n",
       "      <td>1</td>\n",
       "      <td>3</td>\n",
       "      <td>0</td>\n",
       "    </tr>\n",
       "    <tr>\n",
       "      <th>4</th>\n",
       "      <td>72</td>\n",
       "      <td>28</td>\n",
       "      <td>5</td>\n",
       "      <td>4</td>\n",
       "      <td>21</td>\n",
       "      <td>6</td>\n",
       "      <td>8</td>\n",
       "      <td>13</td>\n",
       "      <td>4</td>\n",
       "      <td>5</td>\n",
       "      <td>0</td>\n",
       "    </tr>\n",
       "  </tbody>\n",
       "</table>\n",
       "</div>"
      ],
      "text/plain": [
       "   hPossesion  aPossesion  hshotsOnTarget  ashotsOnTarget  hshots  ashots  \\\n",
       "0          24          76               2               4      14      17   \n",
       "1          80          20               3               1       5       2   \n",
       "2          57          43               4               2      12      11   \n",
       "3          47          53               5               3      13      11   \n",
       "4          72          28               5               4      21       6   \n",
       "\n",
       "   hfouls  afouls  hsaves  asaves  label  \n",
       "0      11      13       2       1      2  \n",
       "1       1       3       0       1      1  \n",
       "2      10      12       1       2      1  \n",
       "3       7      10       1       3      0  \n",
       "4       8      13       4       5      0  "
      ]
     },
     "execution_count": 353,
     "metadata": {},
     "output_type": "execute_result"
    }
   ],
   "source": [
    "df.head()"
   ]
  },
  {
   "cell_type": "code",
   "execution_count": 354,
   "id": "fd685b63",
   "metadata": {},
   "outputs": [
    {
     "data": {
      "text/plain": [
       "(1272, 11)"
      ]
     },
     "execution_count": 354,
     "metadata": {},
     "output_type": "execute_result"
    }
   ],
   "source": [
    "df.shape"
   ]
  },
  {
   "cell_type": "markdown",
   "id": "bd0cc024",
   "metadata": {},
   "source": [
    "# Nueral Net From Scratch"
   ]
  },
  {
   "cell_type": "markdown",
   "id": "9edfc6f9",
   "metadata": {},
   "source": [
    "### Selected Data to Train"
   ]
  },
  {
   "cell_type": "code",
   "execution_count": 355,
   "id": "343a2799",
   "metadata": {},
   "outputs": [
    {
     "data": {
      "text/html": [
       "<div>\n",
       "<style scoped>\n",
       "    .dataframe tbody tr th:only-of-type {\n",
       "        vertical-align: middle;\n",
       "    }\n",
       "\n",
       "    .dataframe tbody tr th {\n",
       "        vertical-align: top;\n",
       "    }\n",
       "\n",
       "    .dataframe thead th {\n",
       "        text-align: right;\n",
       "    }\n",
       "</style>\n",
       "<table border=\"1\" class=\"dataframe\">\n",
       "  <thead>\n",
       "    <tr style=\"text-align: right;\">\n",
       "      <th></th>\n",
       "      <th>hPossesion</th>\n",
       "      <th>aPossesion</th>\n",
       "      <th>hshotsOnTarget</th>\n",
       "      <th>ashotsOnTarget</th>\n",
       "      <th>hshots</th>\n",
       "      <th>ashots</th>\n",
       "      <th>hfouls</th>\n",
       "      <th>afouls</th>\n",
       "      <th>hsaves</th>\n",
       "      <th>asaves</th>\n",
       "      <th>label</th>\n",
       "    </tr>\n",
       "  </thead>\n",
       "  <tbody>\n",
       "    <tr>\n",
       "      <th>208</th>\n",
       "      <td>50</td>\n",
       "      <td>50</td>\n",
       "      <td>7</td>\n",
       "      <td>0</td>\n",
       "      <td>11</td>\n",
       "      <td>2</td>\n",
       "      <td>7</td>\n",
       "      <td>7</td>\n",
       "      <td>0</td>\n",
       "      <td>3</td>\n",
       "      <td>1</td>\n",
       "    </tr>\n",
       "    <tr>\n",
       "      <th>966</th>\n",
       "      <td>45</td>\n",
       "      <td>55</td>\n",
       "      <td>1</td>\n",
       "      <td>3</td>\n",
       "      <td>9</td>\n",
       "      <td>10</td>\n",
       "      <td>20</td>\n",
       "      <td>18</td>\n",
       "      <td>3</td>\n",
       "      <td>1</td>\n",
       "      <td>0</td>\n",
       "    </tr>\n",
       "    <tr>\n",
       "      <th>714</th>\n",
       "      <td>37</td>\n",
       "      <td>63</td>\n",
       "      <td>2</td>\n",
       "      <td>1</td>\n",
       "      <td>8</td>\n",
       "      <td>10</td>\n",
       "      <td>13</td>\n",
       "      <td>10</td>\n",
       "      <td>1</td>\n",
       "      <td>1</td>\n",
       "      <td>1</td>\n",
       "    </tr>\n",
       "    <tr>\n",
       "      <th>1192</th>\n",
       "      <td>64</td>\n",
       "      <td>36</td>\n",
       "      <td>15</td>\n",
       "      <td>3</td>\n",
       "      <td>20</td>\n",
       "      <td>6</td>\n",
       "      <td>15</td>\n",
       "      <td>13</td>\n",
       "      <td>1</td>\n",
       "      <td>7</td>\n",
       "      <td>0</td>\n",
       "    </tr>\n",
       "    <tr>\n",
       "      <th>584</th>\n",
       "      <td>28</td>\n",
       "      <td>72</td>\n",
       "      <td>0</td>\n",
       "      <td>5</td>\n",
       "      <td>3</td>\n",
       "      <td>22</td>\n",
       "      <td>12</td>\n",
       "      <td>4</td>\n",
       "      <td>3</td>\n",
       "      <td>0</td>\n",
       "      <td>2</td>\n",
       "    </tr>\n",
       "  </tbody>\n",
       "</table>\n",
       "</div>"
      ],
      "text/plain": [
       "      hPossesion  aPossesion  hshotsOnTarget  ashotsOnTarget  hshots  ashots  \\\n",
       "208           50          50               7               0      11       2   \n",
       "966           45          55               1               3       9      10   \n",
       "714           37          63               2               1       8      10   \n",
       "1192          64          36              15               3      20       6   \n",
       "584           28          72               0               5       3      22   \n",
       "\n",
       "      hfouls  afouls  hsaves  asaves  label  \n",
       "208        7       7       0       3      1  \n",
       "966       20      18       3       1      0  \n",
       "714       13      10       1       1      1  \n",
       "1192      15      13       1       7      0  \n",
       "584       12       4       3       0      2  "
      ]
     },
     "execution_count": 355,
     "metadata": {},
     "output_type": "execute_result"
    }
   ],
   "source": [
    "sample_df = df.sample(n=100, random_state=42)\n",
    "sample_df.head()"
   ]
  },
  {
   "cell_type": "code",
   "execution_count": 356,
   "id": "5892d69a",
   "metadata": {},
   "outputs": [
    {
     "name": "stderr",
     "output_type": "stream",
     "text": [
      "c:\\Users\\Public\\Anaconda\\envs\\dsde-cp\\Lib\\site-packages\\numpy\\_core\\fromnumeric.py:57: FutureWarning: 'DataFrame.swapaxes' is deprecated and will be removed in a future version. Please use 'DataFrame.transpose' instead.\n",
      "  return bound(*args, **kwds)\n"
     ]
    },
    {
     "data": {
      "text/plain": [
       "((80, 11), (20, 11))"
      ]
     },
     "execution_count": 356,
     "metadata": {},
     "output_type": "execute_result"
    }
   ],
   "source": [
    "train, test = np.split(sample_df.sample(frac=1, random_state=42), [int(0.8 * len(sample_df))])\n",
    "\n",
    "train.shape, test.shape"
   ]
  },
  {
   "cell_type": "code",
   "execution_count": 357,
   "id": "408041db",
   "metadata": {},
   "outputs": [
    {
     "data": {
      "text/plain": [
       "((80, 10), (80,))"
      ]
     },
     "execution_count": 357,
     "metadata": {},
     "output_type": "execute_result"
    }
   ],
   "source": [
    "X = train.drop(columns=['label'])\n",
    "y = train['label']\n",
    "\n",
    "X_test = test.drop(columns=['label'])\n",
    "y_test = test['label']\n",
    "\n",
    "X.shape, y.shape"
   ]
  },
  {
   "cell_type": "markdown",
   "id": "a23317cf",
   "metadata": {},
   "source": [
    "## init weights"
   ]
  },
  {
   "cell_type": "code",
   "execution_count": 358,
   "id": "a3ab366a",
   "metadata": {},
   "outputs": [
    {
     "data": {
      "text/plain": [
       "array([[ 0.16694146,  2.031977  , -0.84396551],\n",
       "       [-0.55969476,  0.85682239,  0.05789393],\n",
       "       [ 0.22604722, -0.7559193 ,  0.76939618],\n",
       "       [ 0.22737514, -0.30728726, -0.78125198],\n",
       "       [ 1.5850684 ,  0.21913624, -0.5119989 ],\n",
       "       [-1.18858641, -0.75220944,  1.22944987],\n",
       "       [-0.9541277 , -0.1361906 , -0.61839602],\n",
       "       [ 0.13324106,  2.36096963, -0.81831754],\n",
       "       [-0.3216835 , -0.27641603,  2.50016126],\n",
       "       [-0.32606433,  0.19240507,  0.63334637]])"
      ]
     },
     "execution_count": 358,
     "metadata": {},
     "output_type": "execute_result"
    }
   ],
   "source": [
    "W = np.random.randn(10, 3)\n",
    "W"
   ]
  },
  {
   "cell_type": "code",
   "execution_count": 359,
   "id": "e261737c",
   "metadata": {},
   "outputs": [
    {
     "data": {
      "text/plain": [
       "array([[-0.82486426, -1.52813274, -1.12871573]])"
      ]
     },
     "execution_count": 359,
     "metadata": {},
     "output_type": "execute_result"
    }
   ],
   "source": [
    "W0 = np.random.randn(1, 3)\n",
    "W0"
   ]
  },
  {
   "cell_type": "markdown",
   "id": "3bde54a9",
   "metadata": {},
   "source": [
    "## Forward Pass"
   ]
  },
  {
   "cell_type": "code",
   "execution_count": 360,
   "id": "9a57e9c8",
   "metadata": {},
   "outputs": [],
   "source": [
    "# Forward pass\n",
    "def softmax(z):\n",
    "    exp_z = np.exp(z - np.max(z, axis=1, keepdims=True))\n",
    "    return exp_z / exp_z.sum(axis=1, keepdims=True)"
   ]
  },
  {
   "cell_type": "markdown",
   "id": "aca07542",
   "metadata": {},
   "source": [
    "## Original Evaluation"
   ]
  },
  {
   "cell_type": "code",
   "execution_count": 361,
   "id": "c507e135",
   "metadata": {},
   "outputs": [],
   "source": [
    "logits = (X @ W + W0).to_numpy()  \n",
    "probs = softmax(logits)         \n",
    "preds = np.argmax(probs, axis=1) "
   ]
  },
  {
   "cell_type": "code",
   "execution_count": 362,
   "id": "0e1a6a05",
   "metadata": {},
   "outputs": [
    {
     "data": {
      "text/plain": [
       "array([1, 1, 1, 1, 1, 1, 1, 1, 1, 1, 1, 1, 1, 1, 1, 1, 1, 1, 1, 1, 1, 1,\n",
       "       1, 1, 1, 1, 1, 1, 1, 1, 1, 1, 1, 1, 1, 1, 1, 1, 1, 1, 1, 1, 1, 1,\n",
       "       1, 1, 1, 1, 1, 1, 1, 1, 1, 1, 1, 1, 1, 1, 1, 1, 1, 1, 1, 1, 1, 1,\n",
       "       1, 1, 1, 1, 1, 1, 1, 1, 1, 1, 1, 1, 1, 1])"
      ]
     },
     "execution_count": 362,
     "metadata": {},
     "output_type": "execute_result"
    }
   ],
   "source": [
    "preds"
   ]
  },
  {
   "cell_type": "code",
   "execution_count": 363,
   "id": "84b20900",
   "metadata": {},
   "outputs": [
    {
     "name": "stdout",
     "output_type": "stream",
     "text": [
      "Original Accuracy: 0.45\n"
     ]
    }
   ],
   "source": [
    "original_accuaracy = accuracy_score(y, preds)\n",
    "\n",
    "print(f\"Original Accuracy: {original_accuaracy:.2f}\")"
   ]
  },
  {
   "cell_type": "code",
   "execution_count": 364,
   "id": "1516636a",
   "metadata": {},
   "outputs": [
    {
     "name": "stdout",
     "output_type": "stream",
     "text": [
      "Original Test Accuracy: 0.60\n"
     ]
    }
   ],
   "source": [
    "eval_logits = (X_test @ W + W0).to_numpy()  \n",
    "eval_probs = softmax(eval_logits)\n",
    "eval_preds = np.argmax(eval_probs, axis=1)\n",
    "origianl_eval_accuracy = accuracy_score(y_test, eval_preds)\n",
    "print(f\"Original Test Accuracy: {origianl_eval_accuracy:.2f}\")"
   ]
  },
  {
   "cell_type": "markdown",
   "id": "58f92a18",
   "metadata": {},
   "source": [
    "# Training"
   ]
  },
  {
   "cell_type": "markdown",
   "id": "cfa6a3a8",
   "metadata": {},
   "source": [
    "### Loss Fuction"
   ]
  },
  {
   "cell_type": "code",
   "execution_count": 365,
   "id": "88ede327",
   "metadata": {},
   "outputs": [],
   "source": [
    "def cross_entropy_loss(probs, y_true):\n",
    "    n = y_true.shape[0]\n",
    "    log_probs = -np.log(probs[range(n), y_true])\n",
    "    return np.sum(log_probs) / n"
   ]
  },
  {
   "cell_type": "markdown",
   "id": "fc0c6720",
   "metadata": {},
   "source": [
    "### One-hot encoder\n",
    "class 0 -> [1, 0, 0]\n",
    "\n",
    "class 1 -> [0, 1, 0]\n",
    "\n",
    "class 2 -> [0, 0, 1]\n"
   ]
  },
  {
   "cell_type": "code",
   "execution_count": 366,
   "id": "aa405189",
   "metadata": {},
   "outputs": [],
   "source": [
    "def one_hot(y, num_classes):\n",
    "    return np.eye(num_classes)[y]"
   ]
  },
  {
   "cell_type": "code",
   "execution_count": 367,
   "id": "ff2d665a",
   "metadata": {},
   "outputs": [
    {
     "name": "stdout",
     "output_type": "stream",
     "text": [
      "Epoch 0, Loss: 97.0677, Accuracy: 0.45, Eval Accuracy: 0.25\n",
      "Epoch 100, Loss: 84.3332, Accuracy: 0.50, Eval Accuracy: 0.10\n",
      "Epoch 200, Loss: 98.7305, Accuracy: 0.68, Eval Accuracy: 0.55\n",
      "Epoch 300, Loss: 40.2099, Accuracy: 0.29, Eval Accuracy: 0.60\n",
      "Epoch 400, Loss: 50.0479, Accuracy: 0.50, Eval Accuracy: 0.40\n",
      "Epoch 500, Loss: 38.4365, Accuracy: 0.64, Eval Accuracy: 0.40\n",
      "Epoch 600, Loss: 62.9409, Accuracy: 0.60, Eval Accuracy: 0.20\n",
      "Epoch 700, Loss: 44.3492, Accuracy: 0.33, Eval Accuracy: 0.55\n",
      "Epoch 800, Loss: 73.6104, Accuracy: 0.62, Eval Accuracy: 0.45\n",
      "Epoch 900, Loss: 21.8183, Accuracy: 0.66, Eval Accuracy: 0.55\n",
      "Epoch 1000, Loss: 84.0912, Accuracy: 0.70, Eval Accuracy: 0.45\n"
     ]
    }
   ],
   "source": [
    "learning_rate = 0.1\n",
    "epochs = 1000\n",
    "num_classes = 3\n",
    "n_samples, n_features = X.shape\n",
    "\n",
    "for epoch in range(epochs + 1):\n",
    "    # Forward\n",
    "    logits = np.dot(X, W) + W0\n",
    "    probs = softmax(logits)\n",
    "    loss = cross_entropy_loss(probs, y)\n",
    "\n",
    "    # Back Propagate\n",
    "    y_onehot = one_hot(y, num_classes)\n",
    "    dlogits = (probs - y_onehot) / n_samples\n",
    "    dW = np.dot(X.T, dlogits)\n",
    "    dw0 = np.sum(dlogits, axis=0, keepdims=True)\n",
    "\n",
    "    # Update Weights\n",
    "    W -= learning_rate * dW\n",
    "    W0 -= learning_rate * dw0\n",
    "\n",
    "    # Log\n",
    "    if epoch % 100 == 0:\n",
    "        predictions = np.argmax(probs, axis=1)\n",
    "        acc = np.mean(predictions == y) \n",
    "        eval_logits = np.dot(X_test, W) + dw0\n",
    "        eval_probs = softmax(eval_logits)\n",
    "        eval_preds = np.argmax(eval_probs, axis=1)\n",
    "        eval_accuracy = accuracy_score(y_test, eval_preds)\n",
    "        print(f\"Epoch {epoch}, Loss: {loss:.4f}, Accuracy: {acc:.2f}, Eval Accuracy: {eval_accuracy:.2f}\")"
   ]
  },
  {
   "cell_type": "markdown",
   "id": "37e64e4c",
   "metadata": {},
   "source": [
    "# Evalution"
   ]
  },
  {
   "cell_type": "code",
   "execution_count": 368,
   "id": "eb99b896",
   "metadata": {},
   "outputs": [
    {
     "name": "stdout",
     "output_type": "stream",
     "text": [
      "Test Accuracy: 0.45\n"
     ]
    }
   ],
   "source": [
    "logits = np.dot(X_test, W) + dw0\n",
    "probs = softmax(logits)\n",
    "preds = np.argmax(probs, axis=1)\n",
    "accuracy = accuracy_score(y_test, preds)\n",
    "print(f\"Test Accuracy: {accuracy:.2f}\")"
   ]
  },
  {
   "cell_type": "markdown",
   "id": "7f7164e2",
   "metadata": {},
   "source": [
    "# Inferrence"
   ]
  },
  {
   "cell_type": "code",
   "execution_count": 369,
   "id": "56be3bf5",
   "metadata": {},
   "outputs": [
    {
     "name": "stdout",
     "output_type": "stream",
     "text": [
      "Predicted class: 2\n",
      "Predicted result: PSG Win\n",
      "Predicted probabilities: ['0.00', '0.00', '1.00']\n",
      "Model Accuracy: 0.45\n"
     ]
    }
   ],
   "source": [
    "# Inter Milan\n",
    "homeTeamName = \"Inter Milan\"\n",
    "homeAveragePossesion = 56.5\n",
    "homeAverageShots = 14.6\n",
    "homeAverageShotsOnTarget = 4.9\n",
    "homeAverageFouls = 10.8\n",
    "homeAverageSaves = 5\n",
    "\n",
    "# PSG\n",
    "awayTeamName = \"PSG\"\n",
    "awayAveragePossesion = 66.6\n",
    "awayAverageShots = 18.8\n",
    "awayAverageShotsOnTarget = 7.9\n",
    "awayAverageFouls = 10\n",
    "awayAverageSaves = 3\n",
    "\n",
    "result_map = {\n",
    "    0: \"Draw\",\n",
    "    1: f\"{homeTeamName} Win\",\n",
    "    2: f\"{awayTeamName} Win\"\n",
    "}\n",
    "\n",
    "X = np.array([[homeAveragePossesion, awayAveragePossesion, homeAverageShotsOnTarget, awayAverageShotsOnTarget, homeAverageShots, awayAverageShots, homeAverageFouls, awayAverageFouls, homeAverageSaves, awayAverageSaves]])\n",
    "logits = np.dot(X, W) + W0\n",
    "probs = softmax(logits)\n",
    "preds = np.argmax(probs, axis=1)\n",
    "print(f\"Predicted class: {preds[0]}\")\n",
    "print(f\"Predicted result: {result_map[preds[0]]}\")\n",
    "print(f\"Predicted probabilities: {[f'{p:.2f}' for p in probs[0]]}\")\n",
    "print(f'Model Accuracy: {accuracy:.2f}')\n",
    "\n",
    " "
   ]
  },
  {
   "cell_type": "code",
   "execution_count": 370,
   "id": "b5f771e3",
   "metadata": {},
   "outputs": [
    {
     "name": "stdout",
     "output_type": "stream",
     "text": [
      "Original Accuracy: 0.45\n",
      "Original Test Accuracy: 0.60\n",
      "Final Test Accuracy: 0.45\n",
      "Final Test Accuracy: 0.45\n"
     ]
    }
   ],
   "source": [
    "print(f'Original Accuracy: {original_accuaracy:.2f}')\n",
    "print(f'Original Test Accuracy: {origianl_eval_accuracy:.2f}')\n",
    "print(f'Final Test Accuracy: {accuracy:.2f}')\n",
    "print(f'Final Test Accuracy: {eval_accuracy:.2f}')"
   ]
  },
  {
   "cell_type": "code",
   "execution_count": 371,
   "id": "ff96ccb3",
   "metadata": {},
   "outputs": [
    {
     "data": {
      "text/plain": [
       "array([[-0.17517234,  1.84890635, -0.31878107],\n",
       "       [-0.44505054, -0.69061424,  1.49068634],\n",
       "       [-3.88451743, 13.67214381, -9.54810228],\n",
       "       [-5.5506256 , -1.93700301,  6.62646452],\n",
       "       [ 1.26666143,  1.609318  , -1.58377369],\n",
       "       [-1.77646157, -7.61381276,  8.67892835],\n",
       "       [-2.01771861,  2.40524585, -2.09624156],\n",
       "       [ 0.94594438,  0.42473067,  0.30521809],\n",
       "       [ 5.30211636,  5.45931995, -8.85937458],\n",
       "       [ 2.04690986, -4.92844405,  3.3812213 ]])"
      ]
     },
     "execution_count": 371,
     "metadata": {},
     "output_type": "execute_result"
    }
   ],
   "source": [
    "W"
   ]
  }
 ],
 "metadata": {
  "kernelspec": {
   "display_name": "dsde-cp",
   "language": "python",
   "name": "python3"
  },
  "language_info": {
   "codemirror_mode": {
    "name": "ipython",
    "version": 3
   },
   "file_extension": ".py",
   "mimetype": "text/x-python",
   "name": "python",
   "nbconvert_exporter": "python",
   "pygments_lexer": "ipython3",
   "version": "3.12.8"
  }
 },
 "nbformat": 4,
 "nbformat_minor": 5
}
