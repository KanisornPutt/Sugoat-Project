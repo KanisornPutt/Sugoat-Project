{
 "cells": [
  {
   "cell_type": "code",
   "execution_count": 270,
   "id": "64171088",
   "metadata": {},
   "outputs": [],
   "source": [
    "import pandas as pd\n",
    "import numpy as np\n",
    "import matplotlib.pyplot as plt\n",
    "from sklearn.metrics import accuracy_score"
   ]
  },
  {
   "cell_type": "markdown",
   "id": "d6c04426",
   "metadata": {},
   "source": [
    "# Data"
   ]
  },
  {
   "cell_type": "code",
   "execution_count": 271,
   "id": "f7c21212",
   "metadata": {},
   "outputs": [],
   "source": [
    "datapath = \"dataset/\"\n",
    "\n",
    "df = pd.read_csv(datapath + 'data.csv')"
   ]
  },
  {
   "cell_type": "code",
   "execution_count": 272,
   "id": "0c34acb4",
   "metadata": {},
   "outputs": [
    {
     "data": {
      "text/html": [
       "<div>\n",
       "<style scoped>\n",
       "    .dataframe tbody tr th:only-of-type {\n",
       "        vertical-align: middle;\n",
       "    }\n",
       "\n",
       "    .dataframe tbody tr th {\n",
       "        vertical-align: top;\n",
       "    }\n",
       "\n",
       "    .dataframe thead th {\n",
       "        text-align: right;\n",
       "    }\n",
       "</style>\n",
       "<table border=\"1\" class=\"dataframe\">\n",
       "  <thead>\n",
       "    <tr style=\"text-align: right;\">\n",
       "      <th></th>\n",
       "      <th>hPossesion</th>\n",
       "      <th>aPossesion</th>\n",
       "      <th>hshotsOnTarget</th>\n",
       "      <th>ashotsOnTarget</th>\n",
       "      <th>hshots</th>\n",
       "      <th>ashots</th>\n",
       "      <th>hfouls</th>\n",
       "      <th>afouls</th>\n",
       "      <th>hsaves</th>\n",
       "      <th>asaves</th>\n",
       "      <th>label</th>\n",
       "    </tr>\n",
       "  </thead>\n",
       "  <tbody>\n",
       "    <tr>\n",
       "      <th>0</th>\n",
       "      <td>24</td>\n",
       "      <td>76</td>\n",
       "      <td>2</td>\n",
       "      <td>4</td>\n",
       "      <td>14</td>\n",
       "      <td>17</td>\n",
       "      <td>11</td>\n",
       "      <td>13</td>\n",
       "      <td>2</td>\n",
       "      <td>1</td>\n",
       "      <td>2</td>\n",
       "    </tr>\n",
       "    <tr>\n",
       "      <th>1</th>\n",
       "      <td>80</td>\n",
       "      <td>20</td>\n",
       "      <td>3</td>\n",
       "      <td>1</td>\n",
       "      <td>5</td>\n",
       "      <td>2</td>\n",
       "      <td>1</td>\n",
       "      <td>3</td>\n",
       "      <td>0</td>\n",
       "      <td>1</td>\n",
       "      <td>1</td>\n",
       "    </tr>\n",
       "    <tr>\n",
       "      <th>2</th>\n",
       "      <td>57</td>\n",
       "      <td>43</td>\n",
       "      <td>4</td>\n",
       "      <td>2</td>\n",
       "      <td>12</td>\n",
       "      <td>11</td>\n",
       "      <td>10</td>\n",
       "      <td>12</td>\n",
       "      <td>1</td>\n",
       "      <td>2</td>\n",
       "      <td>1</td>\n",
       "    </tr>\n",
       "    <tr>\n",
       "      <th>3</th>\n",
       "      <td>47</td>\n",
       "      <td>53</td>\n",
       "      <td>5</td>\n",
       "      <td>3</td>\n",
       "      <td>13</td>\n",
       "      <td>11</td>\n",
       "      <td>7</td>\n",
       "      <td>10</td>\n",
       "      <td>1</td>\n",
       "      <td>3</td>\n",
       "      <td>0</td>\n",
       "    </tr>\n",
       "    <tr>\n",
       "      <th>4</th>\n",
       "      <td>72</td>\n",
       "      <td>28</td>\n",
       "      <td>5</td>\n",
       "      <td>4</td>\n",
       "      <td>21</td>\n",
       "      <td>6</td>\n",
       "      <td>8</td>\n",
       "      <td>13</td>\n",
       "      <td>4</td>\n",
       "      <td>5</td>\n",
       "      <td>0</td>\n",
       "    </tr>\n",
       "  </tbody>\n",
       "</table>\n",
       "</div>"
      ],
      "text/plain": [
       "   hPossesion  aPossesion  hshotsOnTarget  ashotsOnTarget  hshots  ashots  \\\n",
       "0          24          76               2               4      14      17   \n",
       "1          80          20               3               1       5       2   \n",
       "2          57          43               4               2      12      11   \n",
       "3          47          53               5               3      13      11   \n",
       "4          72          28               5               4      21       6   \n",
       "\n",
       "   hfouls  afouls  hsaves  asaves  label  \n",
       "0      11      13       2       1      2  \n",
       "1       1       3       0       1      1  \n",
       "2      10      12       1       2      1  \n",
       "3       7      10       1       3      0  \n",
       "4       8      13       4       5      0  "
      ]
     },
     "execution_count": 272,
     "metadata": {},
     "output_type": "execute_result"
    }
   ],
   "source": [
    "df.head()"
   ]
  },
  {
   "cell_type": "code",
   "execution_count": 273,
   "id": "fd685b63",
   "metadata": {},
   "outputs": [
    {
     "data": {
      "text/plain": [
       "(1272, 11)"
      ]
     },
     "execution_count": 273,
     "metadata": {},
     "output_type": "execute_result"
    }
   ],
   "source": [
    "df.shape"
   ]
  },
  {
   "cell_type": "markdown",
   "id": "bd0cc024",
   "metadata": {},
   "source": [
    "# Nueral Net From Scratch"
   ]
  },
  {
   "cell_type": "markdown",
   "id": "9edfc6f9",
   "metadata": {},
   "source": [
    "### Selected Data to Train"
   ]
  },
  {
   "cell_type": "code",
   "execution_count": 274,
   "id": "343a2799",
   "metadata": {},
   "outputs": [
    {
     "data": {
      "text/html": [
       "<div>\n",
       "<style scoped>\n",
       "    .dataframe tbody tr th:only-of-type {\n",
       "        vertical-align: middle;\n",
       "    }\n",
       "\n",
       "    .dataframe tbody tr th {\n",
       "        vertical-align: top;\n",
       "    }\n",
       "\n",
       "    .dataframe thead th {\n",
       "        text-align: right;\n",
       "    }\n",
       "</style>\n",
       "<table border=\"1\" class=\"dataframe\">\n",
       "  <thead>\n",
       "    <tr style=\"text-align: right;\">\n",
       "      <th></th>\n",
       "      <th>hPossesion</th>\n",
       "      <th>aPossesion</th>\n",
       "      <th>hshotsOnTarget</th>\n",
       "      <th>ashotsOnTarget</th>\n",
       "      <th>hshots</th>\n",
       "      <th>ashots</th>\n",
       "      <th>hfouls</th>\n",
       "      <th>afouls</th>\n",
       "      <th>hsaves</th>\n",
       "      <th>asaves</th>\n",
       "      <th>label</th>\n",
       "    </tr>\n",
       "  </thead>\n",
       "  <tbody>\n",
       "    <tr>\n",
       "      <th>208</th>\n",
       "      <td>50</td>\n",
       "      <td>50</td>\n",
       "      <td>7</td>\n",
       "      <td>0</td>\n",
       "      <td>11</td>\n",
       "      <td>2</td>\n",
       "      <td>7</td>\n",
       "      <td>7</td>\n",
       "      <td>0</td>\n",
       "      <td>3</td>\n",
       "      <td>1</td>\n",
       "    </tr>\n",
       "    <tr>\n",
       "      <th>966</th>\n",
       "      <td>45</td>\n",
       "      <td>55</td>\n",
       "      <td>1</td>\n",
       "      <td>3</td>\n",
       "      <td>9</td>\n",
       "      <td>10</td>\n",
       "      <td>20</td>\n",
       "      <td>18</td>\n",
       "      <td>3</td>\n",
       "      <td>1</td>\n",
       "      <td>0</td>\n",
       "    </tr>\n",
       "    <tr>\n",
       "      <th>714</th>\n",
       "      <td>37</td>\n",
       "      <td>63</td>\n",
       "      <td>2</td>\n",
       "      <td>1</td>\n",
       "      <td>8</td>\n",
       "      <td>10</td>\n",
       "      <td>13</td>\n",
       "      <td>10</td>\n",
       "      <td>1</td>\n",
       "      <td>1</td>\n",
       "      <td>1</td>\n",
       "    </tr>\n",
       "    <tr>\n",
       "      <th>1192</th>\n",
       "      <td>64</td>\n",
       "      <td>36</td>\n",
       "      <td>15</td>\n",
       "      <td>3</td>\n",
       "      <td>20</td>\n",
       "      <td>6</td>\n",
       "      <td>15</td>\n",
       "      <td>13</td>\n",
       "      <td>1</td>\n",
       "      <td>7</td>\n",
       "      <td>0</td>\n",
       "    </tr>\n",
       "    <tr>\n",
       "      <th>584</th>\n",
       "      <td>28</td>\n",
       "      <td>72</td>\n",
       "      <td>0</td>\n",
       "      <td>5</td>\n",
       "      <td>3</td>\n",
       "      <td>22</td>\n",
       "      <td>12</td>\n",
       "      <td>4</td>\n",
       "      <td>3</td>\n",
       "      <td>0</td>\n",
       "      <td>2</td>\n",
       "    </tr>\n",
       "  </tbody>\n",
       "</table>\n",
       "</div>"
      ],
      "text/plain": [
       "      hPossesion  aPossesion  hshotsOnTarget  ashotsOnTarget  hshots  ashots  \\\n",
       "208           50          50               7               0      11       2   \n",
       "966           45          55               1               3       9      10   \n",
       "714           37          63               2               1       8      10   \n",
       "1192          64          36              15               3      20       6   \n",
       "584           28          72               0               5       3      22   \n",
       "\n",
       "      hfouls  afouls  hsaves  asaves  label  \n",
       "208        7       7       0       3      1  \n",
       "966       20      18       3       1      0  \n",
       "714       13      10       1       1      1  \n",
       "1192      15      13       1       7      0  \n",
       "584       12       4       3       0      2  "
      ]
     },
     "execution_count": 274,
     "metadata": {},
     "output_type": "execute_result"
    }
   ],
   "source": [
    "sample_df = df.sample(n=100, random_state=42)\n",
    "sample_df.head()"
   ]
  },
  {
   "cell_type": "code",
   "execution_count": 275,
   "id": "5892d69a",
   "metadata": {},
   "outputs": [
    {
     "name": "stderr",
     "output_type": "stream",
     "text": [
      "c:\\Users\\Public\\Anaconda\\envs\\dsde-cp\\Lib\\site-packages\\numpy\\_core\\fromnumeric.py:57: FutureWarning: 'DataFrame.swapaxes' is deprecated and will be removed in a future version. Please use 'DataFrame.transpose' instead.\n",
      "  return bound(*args, **kwds)\n"
     ]
    },
    {
     "data": {
      "text/plain": [
       "((80, 11), (20, 11))"
      ]
     },
     "execution_count": 275,
     "metadata": {},
     "output_type": "execute_result"
    }
   ],
   "source": [
    "train, test = np.split(sample_df.sample(frac=1, random_state=42), [int(0.8 * len(sample_df))])\n",
    "\n",
    "train.shape, test.shape"
   ]
  },
  {
   "cell_type": "code",
   "execution_count": 276,
   "id": "408041db",
   "metadata": {},
   "outputs": [
    {
     "data": {
      "text/plain": [
       "((80, 10), (80,))"
      ]
     },
     "execution_count": 276,
     "metadata": {},
     "output_type": "execute_result"
    }
   ],
   "source": [
    "X = train.drop(columns=['label'])\n",
    "y = train['label']\n",
    "\n",
    "X_test = test.drop(columns=['label'])\n",
    "y_test = test['label']\n",
    "\n",
    "X.shape, y.shape"
   ]
  },
  {
   "cell_type": "markdown",
   "id": "a23317cf",
   "metadata": {},
   "source": [
    "## init weights"
   ]
  },
  {
   "cell_type": "code",
   "execution_count": 277,
   "id": "a3ab366a",
   "metadata": {},
   "outputs": [
    {
     "data": {
      "text/plain": [
       "array([[-1.37122197,  2.34245829, -1.39733078],\n",
       "       [ 0.24470155, -0.65113743,  0.86604253],\n",
       "       [ 0.18300821, -1.33780026, -2.19904837],\n",
       "       [-0.54086814, -1.34210852, -0.49659175],\n",
       "       [ 0.9534001 ,  0.10313072,  1.67047029],\n",
       "       [-0.2068231 ,  0.43101148,  0.58157179],\n",
       "       [-0.31621678, -0.95636993, -0.94369194],\n",
       "       [-1.1883757 ,  0.81434334,  0.33663351],\n",
       "       [-0.64549425,  0.28127065,  0.00726466],\n",
       "       [-0.74445674, -1.70678329,  0.23685874]])"
      ]
     },
     "execution_count": 277,
     "metadata": {},
     "output_type": "execute_result"
    }
   ],
   "source": [
    "W = np.random.randn(10, 3)\n",
    "W"
   ]
  },
  {
   "cell_type": "code",
   "execution_count": 278,
   "id": "e261737c",
   "metadata": {},
   "outputs": [
    {
     "data": {
      "text/plain": [
       "array([[ 0.30601856, -1.05976091,  0.16654666]])"
      ]
     },
     "execution_count": 278,
     "metadata": {},
     "output_type": "execute_result"
    }
   ],
   "source": [
    "W0 = np.random.randn(1, 3)\n",
    "W0"
   ]
  },
  {
   "cell_type": "markdown",
   "id": "3bde54a9",
   "metadata": {},
   "source": [
    "## Forward Pass"
   ]
  },
  {
   "cell_type": "code",
   "execution_count": 279,
   "id": "9a57e9c8",
   "metadata": {},
   "outputs": [],
   "source": [
    "# Forward pass\n",
    "def softmax(z):\n",
    "    exp_z = np.exp(z - np.max(z, axis=1, keepdims=True))\n",
    "    return exp_z / exp_z.sum(axis=1, keepdims=True)"
   ]
  },
  {
   "cell_type": "markdown",
   "id": "aca07542",
   "metadata": {},
   "source": [
    "## Original Evaluation"
   ]
  },
  {
   "cell_type": "code",
   "execution_count": 280,
   "id": "c507e135",
   "metadata": {},
   "outputs": [],
   "source": [
    "logits = (X @ W + W0).to_numpy()  # Convert to NumPy array to avoid pandas-specific issues\n",
    "probs = softmax(logits)          # Predicted class probabilities\n",
    "preds = np.argmax(probs, axis=1) # Class predictions (0, 1, or 2)"
   ]
  },
  {
   "cell_type": "code",
   "execution_count": 281,
   "id": "0e1a6a05",
   "metadata": {},
   "outputs": [
    {
     "data": {
      "text/plain": [
       "array([1, 1, 1, 1, 1, 1, 1, 1, 1, 1, 1, 2, 1, 1, 1, 2, 1, 1, 1, 1, 1, 1,\n",
       "       1, 1, 2, 1, 1, 1, 1, 1, 1, 1, 1, 1, 1, 1, 1, 1, 1, 1, 1, 1, 1, 1,\n",
       "       2, 1, 1, 1, 1, 1, 1, 1, 1, 1, 1, 1, 1, 1, 1, 1, 1, 1, 1, 1, 1, 1,\n",
       "       1, 1, 1, 1, 2, 1, 1, 1, 1, 1, 1, 1, 1, 2])"
      ]
     },
     "execution_count": 281,
     "metadata": {},
     "output_type": "execute_result"
    }
   ],
   "source": [
    "preds"
   ]
  },
  {
   "cell_type": "code",
   "execution_count": 282,
   "id": "84b20900",
   "metadata": {},
   "outputs": [
    {
     "name": "stdout",
     "output_type": "stream",
     "text": [
      "Original Accuracy: 0.51\n"
     ]
    }
   ],
   "source": [
    "accuracy = accuracy_score(y, preds)\n",
    "\n",
    "print(f\"Original Accuracy: {accuracy:.2f}\")"
   ]
  },
  {
   "cell_type": "markdown",
   "id": "58f92a18",
   "metadata": {},
   "source": [
    "# Training"
   ]
  },
  {
   "cell_type": "markdown",
   "id": "cfa6a3a8",
   "metadata": {},
   "source": [
    "### Loss Fuction"
   ]
  },
  {
   "cell_type": "code",
   "execution_count": 283,
   "id": "88ede327",
   "metadata": {},
   "outputs": [],
   "source": [
    "def cross_entropy_loss(probs, y_true):\n",
    "    n = y_true.shape[0]\n",
    "    log_probs = -np.log(probs[range(n), y_true])\n",
    "    return np.sum(log_probs) / n"
   ]
  },
  {
   "cell_type": "markdown",
   "id": "fc0c6720",
   "metadata": {},
   "source": [
    "### One-hot encoder\n",
    "class 0 -> [1, 0, 0]\n",
    "\n",
    "class 1 -> [0, 1, 0]\n",
    "\n",
    "class 2 -> [0, 0, 1]\n"
   ]
  },
  {
   "cell_type": "code",
   "execution_count": 284,
   "id": "aa405189",
   "metadata": {},
   "outputs": [],
   "source": [
    "def one_hot(y, num_classes):\n",
    "    return np.eye(num_classes)[y]"
   ]
  },
  {
   "cell_type": "code",
   "execution_count": 285,
   "id": "ff2d665a",
   "metadata": {},
   "outputs": [
    {
     "name": "stdout",
     "output_type": "stream",
     "text": [
      "Test Accuracy: 0.51\n",
      "Epoch 0, Loss: 49.8492, Accuracy: 0.51, Eval Accuracy: 0.25\n",
      "Test Accuracy: 0.51\n",
      "Epoch 100, Loss: 84.8202, Accuracy: 0.54, Eval Accuracy: 0.30\n",
      "Test Accuracy: 0.51\n",
      "Epoch 200, Loss: 94.1574, Accuracy: 0.50, Eval Accuracy: 0.15\n",
      "Test Accuracy: 0.51\n",
      "Epoch 300, Loss: 42.5007, Accuracy: 0.30, Eval Accuracy: 0.55\n",
      "Test Accuracy: 0.51\n",
      "Epoch 400, Loss: 86.1895, Accuracy: 0.50, Eval Accuracy: 0.10\n",
      "Test Accuracy: 0.51\n",
      "Epoch 500, Loss: 39.5213, Accuracy: 0.56, Eval Accuracy: 0.40\n",
      "Test Accuracy: 0.51\n",
      "Epoch 600, Loss: 56.3991, Accuracy: 0.60, Eval Accuracy: 0.55\n",
      "Test Accuracy: 0.51\n",
      "Epoch 700, Loss: 73.5935, Accuracy: 0.64, Eval Accuracy: 0.45\n",
      "Test Accuracy: 0.51\n",
      "Epoch 800, Loss: 28.8833, Accuracy: 0.45, Eval Accuracy: 0.55\n",
      "Test Accuracy: 0.51\n",
      "Epoch 900, Loss: 41.4690, Accuracy: 0.59, Eval Accuracy: 0.40\n"
     ]
    }
   ],
   "source": [
    "learning_rate = 0.1\n",
    "epochs = 1000\n",
    "num_classes = 3\n",
    "n_samples, n_features = X.shape\n",
    "\n",
    "for epoch in range(epochs):\n",
    "    # Forward\n",
    "    logits = np.dot(X, W) + dw0\n",
    "    probs = softmax(logits)\n",
    "    loss = cross_entropy_loss(probs, y)\n",
    "\n",
    "    # Back Propagate\n",
    "    y_onehot = one_hot(y, num_classes)\n",
    "    dlogits = (probs - y_onehot) / n_samples\n",
    "    dW = np.dot(X.T, dlogits)\n",
    "    dw0 = np.sum(dlogits, axis=0, keepdims=True)\n",
    "\n",
    "    # Update Weights\n",
    "    W -= learning_rate * dW\n",
    "    W0 -= learning_rate * dw0\n",
    "\n",
    "    # Log\n",
    "    if epoch % 100 == 0:\n",
    "        predictions = np.argmax(probs, axis=1)\n",
    "        acc = np.mean(predictions == y) \n",
    "        eval_logits = np.dot(X_test, W) + dw0\n",
    "        eval_probs = softmax(eval_logits)\n",
    "        eval_preds = np.argmax(eval_probs, axis=1)\n",
    "        eval_accuracy = accuracy_score(y_test, eval_preds)\n",
    "        print(f\"Test Accuracy: {accuracy:.2f}\")\n",
    "        print(f\"Epoch {epoch}, Loss: {loss:.4f}, Accuracy: {acc:.2f}, Eval Accuracy: {eval_accuracy:.2f}\")"
   ]
  },
  {
   "cell_type": "markdown",
   "id": "37e64e4c",
   "metadata": {},
   "source": [
    "# Evalution"
   ]
  },
  {
   "cell_type": "code",
   "execution_count": 286,
   "id": "eb99b896",
   "metadata": {},
   "outputs": [
    {
     "name": "stdout",
     "output_type": "stream",
     "text": [
      "Test Accuracy: 0.10\n"
     ]
    }
   ],
   "source": [
    "logits = np.dot(X_test, W) + dw0\n",
    "probs = softmax(logits)\n",
    "preds = np.argmax(probs, axis=1)\n",
    "accuracy = accuracy_score(y_test, preds)\n",
    "print(f\"Test Accuracy: {accuracy:.2f}\")"
   ]
  },
  {
   "cell_type": "markdown",
   "id": "7f7164e2",
   "metadata": {},
   "source": [
    "# Inferrence"
   ]
  },
  {
   "cell_type": "code",
   "execution_count": 287,
   "id": "56be3bf5",
   "metadata": {},
   "outputs": [
    {
     "name": "stdout",
     "output_type": "stream",
     "text": [
      "Predicted class: 2\n",
      "Predicted result: PSG Win\n"
     ]
    }
   ],
   "source": [
    "# Inter Milan\n",
    "homeTeamName = \"Inter Milan\"\n",
    "homeAveragePossesion = 56.5\n",
    "homeAverageShots = 14.6\n",
    "homeAverageShotsOnTarget = 4.9\n",
    "homeAverageFouls = 10.8\n",
    "homeAverageSaves = 3\n",
    "\n",
    "# PSG\n",
    "awayTeamName = \"PSG\"\n",
    "awayAveragePossesion = 66.6\n",
    "awayAverageShots = 18.8\n",
    "awayAverageShotsOnTarget = 7.9\n",
    "awayAverageFouls = 10\n",
    "awayAverageSaves = 3\n",
    "\n",
    "result_map = {\n",
    "    0: \"Draw\",\n",
    "    1: f\"{homeTeamName} Win\",\n",
    "    2: f\"{awayTeamName} Win\"\n",
    "}\n",
    "\n",
    "X = np.array([[homeAveragePossesion, awayAveragePossesion, homeAverageShotsOnTarget, awayAverageShotsOnTarget, homeAverageShots, awayAverageShots, homeAverageFouls, awayAverageFouls, homeAverageSaves, awayAverageSaves]])\n",
    "logits = np.dot(X, W) + W0\n",
    "probs = softmax(logits)\n",
    "preds = np.argmax(probs, axis=1)\n",
    "print(f\"Predicted class: {preds[0]}\")\n",
    "print(f\"Predicted result: {result_map[preds[0]]}\")\n",
    "\n",
    " "
   ]
  }
 ],
 "metadata": {
  "kernelspec": {
   "display_name": "dsde-cp",
   "language": "python",
   "name": "python3"
  },
  "language_info": {
   "codemirror_mode": {
    "name": "ipython",
    "version": 3
   },
   "file_extension": ".py",
   "mimetype": "text/x-python",
   "name": "python",
   "nbconvert_exporter": "python",
   "pygments_lexer": "ipython3",
   "version": "3.12.8"
  }
 },
 "nbformat": 4,
 "nbformat_minor": 5
}
