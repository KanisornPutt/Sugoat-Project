{
 "cells": [
  {
   "cell_type": "code",
   "execution_count": 667,
   "id": "64171088",
   "metadata": {},
   "outputs": [],
   "source": [
    "import pandas as pd\n",
    "import numpy as np\n",
    "import matplotlib.pyplot as plt\n",
    "from sklearn.metrics import accuracy_score"
   ]
  },
  {
   "cell_type": "markdown",
   "id": "d6c04426",
   "metadata": {},
   "source": [
    "# Data"
   ]
  },
  {
   "cell_type": "code",
   "execution_count": 668,
   "id": "f7c21212",
   "metadata": {},
   "outputs": [],
   "source": [
    "datapath = \"dataset/\"\n",
    "\n",
    "df = pd.read_csv(datapath + 'data.csv')"
   ]
  },
  {
   "cell_type": "code",
   "execution_count": 669,
   "id": "0c34acb4",
   "metadata": {},
   "outputs": [
    {
     "data": {
      "text/html": [
       "<div>\n",
       "<style scoped>\n",
       "    .dataframe tbody tr th:only-of-type {\n",
       "        vertical-align: middle;\n",
       "    }\n",
       "\n",
       "    .dataframe tbody tr th {\n",
       "        vertical-align: top;\n",
       "    }\n",
       "\n",
       "    .dataframe thead th {\n",
       "        text-align: right;\n",
       "    }\n",
       "</style>\n",
       "<table border=\"1\" class=\"dataframe\">\n",
       "  <thead>\n",
       "    <tr style=\"text-align: right;\">\n",
       "      <th></th>\n",
       "      <th>hPossesion</th>\n",
       "      <th>aPossesion</th>\n",
       "      <th>hshotsOnTarget</th>\n",
       "      <th>ashotsOnTarget</th>\n",
       "      <th>hshots</th>\n",
       "      <th>ashots</th>\n",
       "      <th>hfouls</th>\n",
       "      <th>afouls</th>\n",
       "      <th>hsaves</th>\n",
       "      <th>asaves</th>\n",
       "      <th>label</th>\n",
       "    </tr>\n",
       "  </thead>\n",
       "  <tbody>\n",
       "    <tr>\n",
       "      <th>0</th>\n",
       "      <td>24</td>\n",
       "      <td>76</td>\n",
       "      <td>2</td>\n",
       "      <td>4</td>\n",
       "      <td>14</td>\n",
       "      <td>17</td>\n",
       "      <td>11</td>\n",
       "      <td>13</td>\n",
       "      <td>2</td>\n",
       "      <td>1</td>\n",
       "      <td>2</td>\n",
       "    </tr>\n",
       "    <tr>\n",
       "      <th>1</th>\n",
       "      <td>80</td>\n",
       "      <td>20</td>\n",
       "      <td>3</td>\n",
       "      <td>1</td>\n",
       "      <td>5</td>\n",
       "      <td>2</td>\n",
       "      <td>1</td>\n",
       "      <td>3</td>\n",
       "      <td>0</td>\n",
       "      <td>1</td>\n",
       "      <td>1</td>\n",
       "    </tr>\n",
       "    <tr>\n",
       "      <th>2</th>\n",
       "      <td>57</td>\n",
       "      <td>43</td>\n",
       "      <td>4</td>\n",
       "      <td>2</td>\n",
       "      <td>12</td>\n",
       "      <td>11</td>\n",
       "      <td>10</td>\n",
       "      <td>12</td>\n",
       "      <td>1</td>\n",
       "      <td>2</td>\n",
       "      <td>1</td>\n",
       "    </tr>\n",
       "    <tr>\n",
       "      <th>3</th>\n",
       "      <td>47</td>\n",
       "      <td>53</td>\n",
       "      <td>5</td>\n",
       "      <td>3</td>\n",
       "      <td>13</td>\n",
       "      <td>11</td>\n",
       "      <td>7</td>\n",
       "      <td>10</td>\n",
       "      <td>1</td>\n",
       "      <td>3</td>\n",
       "      <td>0</td>\n",
       "    </tr>\n",
       "    <tr>\n",
       "      <th>4</th>\n",
       "      <td>72</td>\n",
       "      <td>28</td>\n",
       "      <td>5</td>\n",
       "      <td>4</td>\n",
       "      <td>21</td>\n",
       "      <td>6</td>\n",
       "      <td>8</td>\n",
       "      <td>13</td>\n",
       "      <td>4</td>\n",
       "      <td>5</td>\n",
       "      <td>0</td>\n",
       "    </tr>\n",
       "  </tbody>\n",
       "</table>\n",
       "</div>"
      ],
      "text/plain": [
       "   hPossesion  aPossesion  hshotsOnTarget  ashotsOnTarget  hshots  ashots  \\\n",
       "0          24          76               2               4      14      17   \n",
       "1          80          20               3               1       5       2   \n",
       "2          57          43               4               2      12      11   \n",
       "3          47          53               5               3      13      11   \n",
       "4          72          28               5               4      21       6   \n",
       "\n",
       "   hfouls  afouls  hsaves  asaves  label  \n",
       "0      11      13       2       1      2  \n",
       "1       1       3       0       1      1  \n",
       "2      10      12       1       2      1  \n",
       "3       7      10       1       3      0  \n",
       "4       8      13       4       5      0  "
      ]
     },
     "execution_count": 669,
     "metadata": {},
     "output_type": "execute_result"
    }
   ],
   "source": [
    "df.head()"
   ]
  },
  {
   "cell_type": "code",
   "execution_count": 670,
   "id": "fd685b63",
   "metadata": {},
   "outputs": [
    {
     "data": {
      "text/plain": [
       "(1272, 11)"
      ]
     },
     "execution_count": 670,
     "metadata": {},
     "output_type": "execute_result"
    }
   ],
   "source": [
    "df.shape"
   ]
  },
  {
   "cell_type": "markdown",
   "id": "bd0cc024",
   "metadata": {},
   "source": [
    "# Nueral Net From Scratch"
   ]
  },
  {
   "cell_type": "markdown",
   "id": "9edfc6f9",
   "metadata": {},
   "source": [
    "### Selected Data to Train"
   ]
  },
  {
   "cell_type": "code",
   "execution_count": 671,
   "id": "5892d69a",
   "metadata": {},
   "outputs": [
    {
     "name": "stderr",
     "output_type": "stream",
     "text": [
      "c:\\Users\\Public\\Anaconda\\envs\\dsde-cp\\Lib\\site-packages\\numpy\\_core\\fromnumeric.py:57: FutureWarning: 'DataFrame.swapaxes' is deprecated and will be removed in a future version. Please use 'DataFrame.transpose' instead.\n",
      "  return bound(*args, **kwds)\n"
     ]
    },
    {
     "data": {
      "text/plain": [
       "((1017, 11), (255, 11))"
      ]
     },
     "execution_count": 671,
     "metadata": {},
     "output_type": "execute_result"
    }
   ],
   "source": [
    "train, test = np.split(df.sample(frac=1, random_state=42), [int(0.8 * len(df))])\n",
    "\n",
    "train.shape, test.shape"
   ]
  },
  {
   "cell_type": "code",
   "execution_count": 672,
   "id": "408041db",
   "metadata": {},
   "outputs": [
    {
     "data": {
      "text/plain": [
       "((1017, 10), (1017,))"
      ]
     },
     "execution_count": 672,
     "metadata": {},
     "output_type": "execute_result"
    }
   ],
   "source": [
    "X = train.drop(columns=['label'])\n",
    "y = train['label']\n",
    "\n",
    "X_test = test.drop(columns=['label'])\n",
    "y_test = test['label']\n",
    "\n",
    "X.shape, y.shape"
   ]
  },
  {
   "cell_type": "markdown",
   "id": "a23317cf",
   "metadata": {},
   "source": [
    "## init weights"
   ]
  },
  {
   "cell_type": "code",
   "execution_count": 673,
   "id": "a3ab366a",
   "metadata": {},
   "outputs": [
    {
     "data": {
      "text/plain": [
       "array([[-1.66877517, -1.03343958,  0.53474136],\n",
       "       [-0.14779005, -2.67277014, -0.80465056],\n",
       "       [ 0.05896317,  0.46087606,  0.21460681],\n",
       "       [-0.16523046,  0.07480244, -0.5192766 ],\n",
       "       [ 0.40440162, -1.3305602 , -1.23230272],\n",
       "       [-0.52095714,  1.58611961,  1.76346351],\n",
       "       [ 2.10809618, -0.22018916,  1.25853368],\n",
       "       [-0.53304406,  1.43746814, -2.07700035],\n",
       "       [ 0.01056678, -0.48191079, -0.049185  ],\n",
       "       [ 0.81404711, -0.68792195, -0.52281739]])"
      ]
     },
     "execution_count": 673,
     "metadata": {},
     "output_type": "execute_result"
    }
   ],
   "source": [
    "W = np.random.randn(10, 3)\n",
    "W"
   ]
  },
  {
   "cell_type": "code",
   "execution_count": 674,
   "id": "e261737c",
   "metadata": {},
   "outputs": [
    {
     "data": {
      "text/plain": [
       "array([[-0.7984785 ,  0.69451782, -0.94689115]])"
      ]
     },
     "execution_count": 674,
     "metadata": {},
     "output_type": "execute_result"
    }
   ],
   "source": [
    "W0 = np.random.randn(1, 3)\n",
    "W0"
   ]
  },
  {
   "cell_type": "markdown",
   "id": "3bde54a9",
   "metadata": {},
   "source": [
    "## Forward Pass"
   ]
  },
  {
   "cell_type": "code",
   "execution_count": 675,
   "id": "9a57e9c8",
   "metadata": {},
   "outputs": [],
   "source": [
    "# Forward pass\n",
    "def softmax(z):\n",
    "    exp_z = np.exp(z - np.max(z, axis=1, keepdims=True))\n",
    "    return exp_z / exp_z.sum(axis=1, keepdims=True)"
   ]
  },
  {
   "cell_type": "markdown",
   "id": "aca07542",
   "metadata": {},
   "source": [
    "## Original Evaluation"
   ]
  },
  {
   "cell_type": "code",
   "execution_count": 676,
   "id": "c507e135",
   "metadata": {},
   "outputs": [],
   "source": [
    "logits = (X @ W + W0).to_numpy()  \n",
    "probs = softmax(logits)         \n",
    "preds = np.argmax(probs, axis=1) "
   ]
  },
  {
   "cell_type": "code",
   "execution_count": 677,
   "id": "0e1a6a05",
   "metadata": {},
   "outputs": [
    {
     "data": {
      "text/plain": [
       "array([2, 2, 2, ..., 2, 0, 2], shape=(1017,))"
      ]
     },
     "execution_count": 677,
     "metadata": {},
     "output_type": "execute_result"
    }
   ],
   "source": [
    "preds"
   ]
  },
  {
   "cell_type": "code",
   "execution_count": 678,
   "id": "84b20900",
   "metadata": {},
   "outputs": [
    {
     "name": "stdout",
     "output_type": "stream",
     "text": [
      "Original Accuracy: 0.30\n"
     ]
    }
   ],
   "source": [
    "original_accuaracy = accuracy_score(y, preds)\n",
    "\n",
    "print(f\"Original Accuracy: {original_accuaracy:.2f}\")"
   ]
  },
  {
   "cell_type": "code",
   "execution_count": 679,
   "id": "1516636a",
   "metadata": {},
   "outputs": [
    {
     "name": "stdout",
     "output_type": "stream",
     "text": [
      "Original Test Accuracy: 0.36\n"
     ]
    }
   ],
   "source": [
    "eval_logits = (X_test @ W + W0).to_numpy()  \n",
    "eval_probs = softmax(eval_logits)\n",
    "eval_preds = np.argmax(eval_probs, axis=1)\n",
    "origianl_eval_accuracy = accuracy_score(y_test, eval_preds)\n",
    "print(f\"Original Test Accuracy: {origianl_eval_accuracy:.2f}\")"
   ]
  },
  {
   "cell_type": "markdown",
   "id": "58f92a18",
   "metadata": {},
   "source": [
    "# Training"
   ]
  },
  {
   "cell_type": "markdown",
   "id": "cfa6a3a8",
   "metadata": {},
   "source": [
    "### Loss Fuction"
   ]
  },
  {
   "cell_type": "code",
   "execution_count": 680,
   "id": "88ede327",
   "metadata": {},
   "outputs": [],
   "source": [
    "def cross_entropy_loss(probs, y_true):\n",
    "    n = y_true.shape[0]\n",
    "    log_probs = -np.log(probs[range(n), y_true])\n",
    "    return np.sum(log_probs) / n"
   ]
  },
  {
   "cell_type": "markdown",
   "id": "fc0c6720",
   "metadata": {},
   "source": [
    "### One-hot encoder\n",
    "class 0 -> [1, 0, 0]\n",
    "\n",
    "class 1 -> [0, 1, 0]\n",
    "\n",
    "class 2 -> [0, 0, 1]\n"
   ]
  },
  {
   "cell_type": "code",
   "execution_count": 681,
   "id": "aa405189",
   "metadata": {},
   "outputs": [],
   "source": [
    "def one_hot(y, num_classes):\n",
    "    return np.eye(num_classes)[y]"
   ]
  },
  {
   "cell_type": "code",
   "execution_count": 682,
   "id": "ff2d665a",
   "metadata": {},
   "outputs": [
    {
     "name": "stdout",
     "output_type": "stream",
     "text": [
      "Epoch 0, Loss: 76.0307, Accuracy: 0.30, Eval Accuracy: 0.42\n",
      "Epoch 100, Loss: 123.7272, Accuracy: 0.47, Eval Accuracy: 0.22\n",
      "Epoch 200, Loss: 64.6786, Accuracy: 0.38, Eval Accuracy: 0.61\n",
      "Epoch 300, Loss: 114.5832, Accuracy: 0.60, Eval Accuracy: 0.60\n",
      "Epoch 400, Loss: 99.7302, Accuracy: 0.28, Eval Accuracy: 0.61\n",
      "Epoch 500, Loss: 108.5174, Accuracy: 0.49, Eval Accuracy: 0.40\n",
      "Epoch 600, Loss: 85.2158, Accuracy: 0.57, Eval Accuracy: 0.52\n",
      "Epoch 700, Loss: 122.5723, Accuracy: 0.43, Eval Accuracy: 0.53\n",
      "Epoch 800, Loss: 54.3582, Accuracy: 0.61, Eval Accuracy: 0.49\n",
      "Epoch 900, Loss: 71.2512, Accuracy: 0.49, Eval Accuracy: 0.41\n",
      "Epoch 1000, Loss: 57.4079, Accuracy: 0.58, Eval Accuracy: 0.52\n"
     ]
    }
   ],
   "source": [
    "learning_rate = 0.1\n",
    "epochs = 1000\n",
    "num_classes = 3\n",
    "n_samples, n_features = X.shape\n",
    "\n",
    "train_accuracy = []\n",
    "test_accuracy = []\n",
    "\n",
    "for epoch in range(epochs + 1):\n",
    "    # Forward\n",
    "    logits = np.dot(X, W) + W0\n",
    "    probs = softmax(logits)\n",
    "    loss = cross_entropy_loss(probs, y)\n",
    "\n",
    "    # Back Propagate\n",
    "    y_onehot = one_hot(y, num_classes)\n",
    "    dlogits = (probs - y_onehot) / n_samples\n",
    "    dW = np.dot(X.T, dlogits)\n",
    "    dw0 = np.sum(dlogits, axis=0, keepdims=True)\n",
    "\n",
    "    # Update Weights\n",
    "    W -= learning_rate * dW\n",
    "    W0 -= learning_rate * dw0\n",
    "\n",
    "    # Log\n",
    "    if epoch % 100 == 0:\n",
    "        predictions = np.argmax(probs, axis=1)\n",
    "        acc = np.mean(predictions == y) \n",
    "        train_accuracy.append(acc)\n",
    "        \n",
    "        eval_logits = np.dot(X_test, W) + dw0\n",
    "        eval_probs = softmax(eval_logits)\n",
    "        eval_preds = np.argmax(eval_probs, axis=1)\n",
    "        eval_accuracy = accuracy_score(y_test, eval_preds)\n",
    "        test_accuracy.append(eval_accuracy)\n",
    "        print(f\"Epoch {epoch}, Loss: {loss:.4f}, Accuracy: {acc:.2f}, Eval Accuracy: {eval_accuracy:.2f}\")"
   ]
  },
  {
   "cell_type": "code",
   "execution_count": 683,
   "id": "ecb8c5b8",
   "metadata": {},
   "outputs": [
    {
     "data": {
      "text/plain": [
       "<matplotlib.legend.Legend at 0x166a94d9a30>"
      ]
     },
     "execution_count": 683,
     "metadata": {},
     "output_type": "execute_result"
    },
    {
     "data": {
      "image/png": "[encoded data removed]",
      "text/plain": [
       "<Figure size 640x480 with 1 Axes>"
      ]
     },
     "metadata": {},
     "output_type": "display_data"
    }
   ],
   "source": [
    "plt.plot(train_accuracy, label='accuracy')\n",
    "plt.plot(test_accuracy, label = 'val_accuracy')\n",
    "plt.xlabel('10 Epoch')\n",
    "plt.ylabel('Accuracy')\n",
    "plt.ylim([0, 1])\n",
    "plt.legend(loc='lower right')"
   ]
  },
  {
   "cell_type": "markdown",
   "id": "37e64e4c",
   "metadata": {},
   "source": [
    "# Evalution"
   ]
  },
  {
   "cell_type": "code",
   "execution_count": 684,
   "id": "eb99b896",
   "metadata": {},
   "outputs": [
    {
     "name": "stdout",
     "output_type": "stream",
     "text": [
      "Test Accuracy: 0.52\n"
     ]
    }
   ],
   "source": [
    "logits = np.dot(X_test, W) + dw0\n",
    "probs = softmax(logits)\n",
    "preds = np.argmax(probs, axis=1)\n",
    "accuracy = accuracy_score(y_test, preds)\n",
    "print(f\"Test Accuracy: {accuracy:.2f}\")"
   ]
  },
  {
   "cell_type": "markdown",
   "id": "7f7164e2",
   "metadata": {},
   "source": [
    "# Inferrence"
   ]
  },
  {
   "cell_type": "code",
   "execution_count": 685,
   "id": "56be3bf5",
   "metadata": {},
   "outputs": [
    {
     "name": "stdout",
     "output_type": "stream",
     "text": [
      "Predicted class: 1\n",
      "Predicted result: Inter Milan Win\n",
      "Predicted probabilities: ['0.00', '1.00', '0.00']\n",
      "Model Accuracy: 0.52\n"
     ]
    }
   ],
   "source": [
    "# Inter Milan\n",
    "homeTeamName = \"Inter Milan\"\n",
    "homeAveragePossesion = 56.5\n",
    "homeAverageShots = 14.6\n",
    "homeAverageShotsOnTarget = 4.9\n",
    "homeAverageFouls = 10.8\n",
    "homeAverageSaves = 5\n",
    "\n",
    "# PSG\n",
    "awayTeamName = \"PSG\"\n",
    "awayAveragePossesion = 66.6\n",
    "awayAverageShots = 18.8\n",
    "awayAverageShotsOnTarget = 7.9\n",
    "awayAverageFouls = 10\n",
    "awayAverageSaves = 3\n",
    "\n",
    "result_map = {\n",
    "    0: \"Draw\",\n",
    "    1: f\"{homeTeamName} Win\",\n",
    "    2: f\"{awayTeamName} Win\"\n",
    "}\n",
    "\n",
    "X = np.array([[homeAveragePossesion, awayAveragePossesion, homeAverageShotsOnTarget, awayAverageShotsOnTarget, homeAverageShots, awayAverageShots, homeAverageFouls, awayAverageFouls, homeAverageSaves, awayAverageSaves]])\n",
    "logits = np.dot(X, W) + W0\n",
    "probs = softmax(logits)\n",
    "preds = np.argmax(probs, axis=1)\n",
    "print(f\"Predicted class: {preds[0]}\")\n",
    "print(f\"Predicted result: {result_map[preds[0]]}\")\n",
    "print(f\"Predicted probabilities: {[f'{p:.2f}' for p in probs[0]]}\")\n",
    "print(f'Model Accuracy: {accuracy:.2f}')\n",
    "\n",
    " "
   ]
  },
  {
   "cell_type": "code",
   "execution_count": 686,
   "id": "b5f771e3",
   "metadata": {},
   "outputs": [
    {
     "name": "stdout",
     "output_type": "stream",
     "text": [
      "Original Accuracy: 0.30\n",
      "Original Test Accuracy: 0.36\n",
      "Final Test Accuracy: 0.52\n",
      "Final Test Accuracy: 0.52\n"
     ]
    }
   ],
   "source": [
    "print(f'Original Accuracy: {original_accuaracy:.2f}')\n",
    "print(f'Original Test Accuracy: {origianl_eval_accuracy:.2f}')\n",
    "print(f'Final Test Accuracy: {accuracy:.2f}')\n",
    "print(f'Final Test Accuracy: {eval_accuracy:.2f}')"
   ]
  },
  {
   "cell_type": "code",
   "execution_count": 687,
   "id": "ff96ccb3",
   "metadata": {},
   "outputs": [
    {
     "data": {
      "text/plain": [
       "array([[-3.72558597e-01,  7.46139291e-03, -1.80237619e+00],\n",
       "       [-1.89867600e+00,  8.86536112e-02, -1.81518836e+00],\n",
       "       [-7.45870821e+00,  1.79214469e+01, -9.72829264e+00],\n",
       "       [-1.66568040e+00, -1.09372695e+01,  1.19932453e+01],\n",
       "       [ 1.37883136e+00, -1.47549607e+00, -2.06179660e+00],\n",
       "       [ 1.77542563e+00, -2.07363309e+00,  3.12683345e+00],\n",
       "       [ 1.48085052e+00,  4.41292931e-01,  1.22429725e+00],\n",
       "       [ 5.11873737e-01,  1.27234506e-01, -1.81168451e+00],\n",
       "       [ 1.12446892e+00,  4.00298998e+00, -5.64798791e+00],\n",
       "       [ 1.76835856e+00, -4.32531088e+00,  2.16026009e+00]])"
      ]
     },
     "execution_count": 687,
     "metadata": {},
     "output_type": "execute_result"
    }
   ],
   "source": [
    "W"
   ]
  }
 ],
 "metadata": {
  "kernelspec": {
   "display_name": "dsde-cp",
   "language": "python",
   "name": "python3"
  },
  "language_info": {
   "codemirror_mode": {
    "name": "ipython",
    "version": 3
   },
   "file_extension": ".py",
   "mimetype": "text/x-python",
   "name": "python",
   "nbconvert_exporter": "python",
   "pygments_lexer": "ipython3",
   "version": "3.12.8"
  }
 },
 "nbformat": 4,
 "nbformat_minor": 5
}
